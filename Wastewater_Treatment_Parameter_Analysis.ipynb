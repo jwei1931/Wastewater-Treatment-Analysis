{
  "nbformat": 4,
  "nbformat_minor": 0,
  "metadata": {
    "colab": {
      "name": "Wastewater Treatment Parameter Analysis",
      "provenance": [],
      "authorship_tag": "ABX9TyP2O/kJKwos+NNj2bj6lTWh"
    },
    "kernelspec": {
      "name": "python3",
      "display_name": "Python 3"
    }
  },
  "cells": [
    {
      "cell_type": "code",
      "metadata": {
        "id": "JrsZxy1_cItQ"
      },
      "source": [
        "# Import libraries\n",
        "import numpy as np\n",
        "import pandas as pd\n",
        "import matplotlib.pyplot as plt\n",
        "import seaborn as sns"
      ],
      "execution_count": 2,
      "outputs": []
    },
    {
      "cell_type": "code",
      "metadata": {
        "id": "E2URo6-McKTk"
      },
      "source": [
        "# Read data \n",
        "df = pd.read_excel('WWTP-daily data 20200616.xlsx',skiprows=[1],header=[0,1], index_col=0)\n",
        "df.head()"
      ],
      "execution_count": null,
      "outputs": []
    },
    {
      "cell_type": "code",
      "metadata": {
        "id": "gfs-qCeHdWKn"
      },
      "source": [
        "# Select required columns\n",
        "idx = pd.IndexSlice\n",
        "T_N = df.loc[:,idx[:,'T-N']].dropna(inplace=False) \n",
        "BOD = df.loc[:,idx[:,'BOD']].dropna(inplace=False)\n",
        "COD = df.loc[:,idx[:,'CODMn']].dropna(inplace=False)\n",
        "TP_Eff = df.loc[:,idx[:,'T-P']].dropna(inplace=False)\n",
        "ORP = df.loc[:,idx[:,'ORP.1']].dropna(inplace=False)\n",
        "Met = df.loc[:,idx[:,'Methanol']].dropna(inplace=False)\n",
        "pH = df.loc[:,idx[:,'pH']].dropna(inplace=False)\n",
        "DO = df.loc[:,idx[:,'DO']].dropna(inplace=False)\n",
        "NH4_N = df.loc[:,idx[:,'NH4-N']].dropna(inplace=False).astype(str)\n",
        "NO2_N = df.loc[:,idx[:,'NO2-N']].dropna(inplace=False).astype(str)\n",
        "NO3_N = df.loc[:,idx[:,'NO3-N']].dropna(inplace=False).astype(str)\n",
        "Re_Slu = df.loc[:,idx[:,'Return sludge flow rate']].dropna(inplace=False)\n",
        "MLSS = df.loc[:,idx[:,'MLSS']].dropna(inplace=False)\n",
        "MLVSS = df.loc[:,idx[:,'MLVSS']].dropna(inplace=False)"
      ],
      "execution_count": 4,
      "outputs": []
    },
    {
      "cell_type": "code",
      "metadata": {
        "id": "VEYKQ-_UmV_F",
        "outputId": "12ce6e4d-1232-4b12-d4c7-47681460aec9",
        "colab": {
          "base_uri": "https://localhost:8080/",
          "height": 195
        }
      },
      "source": [
        "BOD.head()"
      ],
      "execution_count": 14,
      "outputs": [
        {
          "output_type": "execute_result",
          "data": {
            "text/html": [
              "<div>\n",
              "<style scoped>\n",
              "    .dataframe tbody tr th:only-of-type {\n",
              "        vertical-align: middle;\n",
              "    }\n",
              "\n",
              "    .dataframe tbody tr th {\n",
              "        vertical-align: top;\n",
              "    }\n",
              "\n",
              "    .dataframe thead th {\n",
              "        text-align: right;\n",
              "    }\n",
              "</style>\n",
              "<table border=\"1\" class=\"dataframe\">\n",
              "  <thead>\n",
              "    <tr style=\"text-align: right;\">\n",
              "      <th></th>\n",
              "      <th>date</th>\n",
              "      <th>Influent water quality BOD</th>\n",
              "      <th>Effluent water quality BOD</th>\n",
              "    </tr>\n",
              "  </thead>\n",
              "  <tbody>\n",
              "    <tr>\n",
              "      <th>0</th>\n",
              "      <td>2019-01-28</td>\n",
              "      <td>98.0</td>\n",
              "      <td>73.0</td>\n",
              "    </tr>\n",
              "    <tr>\n",
              "      <th>1</th>\n",
              "      <td>2019-02-04</td>\n",
              "      <td>223.0</td>\n",
              "      <td>55.0</td>\n",
              "    </tr>\n",
              "    <tr>\n",
              "      <th>2</th>\n",
              "      <td>2019-02-12</td>\n",
              "      <td>460.0</td>\n",
              "      <td>63.0</td>\n",
              "    </tr>\n",
              "    <tr>\n",
              "      <th>3</th>\n",
              "      <td>2019-02-25</td>\n",
              "      <td>1330.0</td>\n",
              "      <td>14.0</td>\n",
              "    </tr>\n",
              "    <tr>\n",
              "      <th>4</th>\n",
              "      <td>2019-03-04</td>\n",
              "      <td>1650.0</td>\n",
              "      <td>10.0</td>\n",
              "    </tr>\n",
              "  </tbody>\n",
              "</table>\n",
              "</div>"
            ],
            "text/plain": [
              "        date  Influent water quality BOD  Effluent water quality BOD\n",
              "0 2019-01-28                        98.0                        73.0\n",
              "1 2019-02-04                       223.0                        55.0\n",
              "2 2019-02-12                       460.0                        63.0\n",
              "3 2019-02-25                      1330.0                        14.0\n",
              "4 2019-03-04                      1650.0                        10.0"
            ]
          },
          "metadata": {
            "tags": []
          },
          "execution_count": 14
        }
      ]
    },
    {
      "cell_type": "code",
      "metadata": {
        "id": "APCkZq0vdaXa",
        "outputId": "94be43dd-2011-4d2b-8632-bed3d219e417",
        "colab": {
          "base_uri": "https://localhost:8080/"
        }
      },
      "source": [
        "# Check data type\n",
        "MLSS.dtypes, MLVSS.dtypes"
      ],
      "execution_count": 5,
      "outputs": [
        {
          "output_type": "execute_result",
          "data": {
            "text/plain": [
              "(Second nitrification tank (On-site measurement)  MLSS    float64\n",
              " Liquid level adjustment tank                     MLSS    float64\n",
              " dtype: object,\n",
              " Second nitrification tank (On-site measurement)  MLVSS    float64\n",
              " Liquid level adjustment tank                     MLVSS    float64\n",
              " dtype: object)"
            ]
          },
          "metadata": {
            "tags": []
          },
          "execution_count": 5
        }
      ]
    },
    {
      "cell_type": "code",
      "metadata": {
        "id": "WWGsUzQaCTu7"
      },
      "source": [
        "# Convert e.g '<1.0' to 1.0 \n",
        "TP_Eff[TP_Eff == '<1.0'] = 1.0\n",
        "TP_Eff[TP_Eff == '<0.5'] = 0.5\n",
        "TP_Eff[TP_Eff == '<0.1'] = 0.1\n",
        "NH4_N[NH4_N == '<50'] = 50\n",
        "NH4_N[NH4_N == '<100'] = 100\n",
        "NO2_N[NO2_N == '<0.55'] = 0.05\n",
        "NO2_N[NO2_N == '<0.05'] = 0.05\n",
        "NO3_N[NO3_N == '<0.2'] = 0.2\n",
        "NO3_N[NO3_N == '<0.05'] = 0.05"
      ],
      "execution_count": 6,
      "outputs": []
    },
    {
      "cell_type": "code",
      "metadata": {
        "id": "yWh4XMXbCUtP"
      },
      "source": [
        "# Convert object to float\n",
        "TP_Eff=TP_Eff.astype(float)\n",
        "NH4_N=NH4_N.astype(float)\n",
        "NO2_N=NO2_N.astype(float)\n",
        "NO3_N=NO3_N.astype(float)\n",
        "Re_Slu=Re_Slu.astype(float)"
      ],
      "execution_count": 7,
      "outputs": []
    },
    {
      "cell_type": "code",
      "metadata": {
        "id": "owm8nmR8doAL"
      },
      "source": [
        "# Reset index\n",
        "T_N = T_N.reset_index()\n",
        "BOD = BOD.reset_index()\n",
        "COD = COD.reset_index()\n",
        "TP_Eff = TP_Eff.reset_index()\n",
        "ORP = ORP.reset_index()\n",
        "Met = Met.reset_index()\n",
        "pH = pH.reset_index()\n",
        "DO = DO.reset_index()\n",
        "NH4_N = NH4_N.reset_index()\n",
        "NO2_N = NO2_N.reset_index()\n",
        "NO3_N = NO3_N.reset_index()\n",
        "Re_Slu=Re_Slu.reset_index()\n",
        "MLSS=MLSS.reset_index()\n",
        "MLVSS=MLVSS.reset_index()"
      ],
      "execution_count": 8,
      "outputs": []
    },
    {
      "cell_type": "code",
      "metadata": {
        "id": "yuEyiTAHe066"
      },
      "source": [
        "# Convert multilevel column index to single column index \n",
        "T_N.columns = [' '.join(col).strip() for col in T_N.columns.values]\n",
        "BOD.columns = [' '.join(col).strip() for col in BOD.columns.values]\n",
        "COD.columns = [' '.join(col).strip() for col in COD.columns.values]\n",
        "TP_Eff.columns = [' '.join(col).strip() for col in TP_Eff.columns.values]\n",
        "ORP.columns = [' '.join(col).strip() for col in ORP.columns.values]\n",
        "Met.columns = [' '.join(col).strip() for col in Met.columns.values]\n",
        "pH.columns = [' '.join(col).strip() for col in pH.columns.values]\n",
        "DO.columns = [' '.join(col).strip() for col in DO.columns.values]\n",
        "NH4_N.columns = [' '.join(col).strip() for col in NH4_N.columns.values]\n",
        "NO2_N.columns = [' '.join(col).strip() for col in NO2_N.columns.values]\n",
        "NO3_N.columns = [' '.join(col).strip() for col in NO3_N.columns.values]\n",
        "Re_Slu.columns = [' '.join(col).strip() for col in Re_Slu.columns.values]\n",
        "MLSS.columns = [' '.join(col).strip() for col in MLSS.columns.values]\n",
        "MLVSS.columns = [' '.join(col).strip() for col in MLVSS.columns.values]"
      ],
      "execution_count": 9,
      "outputs": []
    },
    {
      "cell_type": "code",
      "metadata": {
        "id": "zrCBRuofq2zd"
      },
      "source": [
        "# Assign column name\n",
        "TP_Eff=TP_Eff.rename(columns={'index':'date'})\n",
        "BOD=BOD.rename(columns={'index':'date'})\n",
        "COD=COD.rename(columns={'index':'date'})\n",
        "T_N=T_N.rename(columns={'index':'date'})\n",
        "ORP=ORP.rename(columns={'index':'date'})\n",
        "Met=Met.rename(columns={'index':'date'})\n",
        "pH=pH.rename(columns={'index':'date'})\n",
        "DO=DO.rename(columns={'index':'date'})\n",
        "NH4_N=NH4_N.rename(columns={'index':'date'})\n",
        "NO2_N=NO2_N.rename(columns={'index':'date'})\n",
        "NO3_N=NO3_N.rename(columns={'index':'date'})\n",
        "Re_Slu=Re_Slu.rename(columns={'index':'date'})\n",
        "MLSS=MLSS.rename(columns={'index':'date'})\n",
        "MLVSS=MLVSS.rename(columns={'index':'date'})"
      ],
      "execution_count": 10,
      "outputs": []
    },
    {
      "cell_type": "code",
      "metadata": {
        "id": "nhWQgqjNmocE"
      },
      "source": [
        "Re_Slu=Re_Slu.rename(columns={'Unnamed: 1_level_0 Return sludge flow rate':'Return sludge flow rate'})"
      ],
      "execution_count": 11,
      "outputs": []
    },
    {
      "cell_type": "code",
      "metadata": {
        "id": "HUZVThMisHa4"
      },
      "source": [
        "# Check data\n",
        "MLVSS.head()"
      ],
      "execution_count": null,
      "outputs": []
    },
    {
      "cell_type": "markdown",
      "metadata": {
        "id": "vTTk-bts_LGO"
      },
      "source": [
        ""
      ]
    },
    {
      "cell_type": "markdown",
      "metadata": {
        "id": "K1BNzUlP7XdJ"
      },
      "source": [
        "**2nd Nitrification Tank Analysis**\n"
      ]
    },
    {
      "cell_type": "markdown",
      "metadata": {
        "id": "pt6xuj-MJK1L"
      },
      "source": [
        "MLSS/MLVSS"
      ]
    },
    {
      "cell_type": "code",
      "metadata": {
        "id": "94xH1B3PJGye"
      },
      "source": [
        "MLSS_Nit2 = MLSS[['date', 'Second nitrification tank (On-site measurement) MLSS']]\n",
        "MLVSS_Nit2 = MLVSS[['date', 'Second nitrification tank (On-site measurement) MLVSS']]\n",
        "BOD_Eff = BOD[['date', 'Effluent water quality BOD']]"
      ],
      "execution_count": 16,
      "outputs": []
    },
    {
      "cell_type": "code",
      "metadata": {
        "id": "C_0-e1z5Jbcb"
      },
      "source": [
        "MLSS_Nit2 = pd.merge(MLSS_Nit2, MLVSS_Nit2, on='date')\n",
        "MLSS_Nit2 = pd.merge(MLSS_Nit2, BOD_Eff, on='date')\n",
        "MLSS_Nit2"
      ],
      "execution_count": null,
      "outputs": []
    },
    {
      "cell_type": "code",
      "metadata": {
        "id": "NLb-HTRiNVr0"
      },
      "source": [
        "plt.plot('date', 'Effluent water quality BOD', data=MLSS_Nit2, color='brown', linewidth=2, label='BOD_Eff')"
      ],
      "execution_count": null,
      "outputs": []
    },
    {
      "cell_type": "code",
      "metadata": {
        "id": "RE0ax-z7JoJ5"
      },
      "source": [
        "plt.plot('date', 'Second nitrification tank (On-site measurement) MLSS', data=MLSS_Nit2, color='blue', linewidth=2, label='MLSS_Nit2')\n",
        "plt.plot('date', 'Second nitrification tank (On-site measurement) MLVSS', data=MLSS_Nit2, color='green', linewidth=2, label='MLVSS_Nit2')\n",
        "plt.legend(loc=\"lower right\")"
      ],
      "execution_count": null,
      "outputs": []
    },
    {
      "cell_type": "markdown",
      "metadata": {
        "id": "k2BRl0SeCBIL"
      },
      "source": [
        "DO\n"
      ]
    },
    {
      "cell_type": "code",
      "metadata": {
        "id": "tbjYeAmTCAPY"
      },
      "source": [
        "DO_Nit2 = DO[['date', 'Second nitrification tank (On-site measurement) DO']]\n",
        "DO_Nit2"
      ],
      "execution_count": null,
      "outputs": []
    },
    {
      "cell_type": "code",
      "metadata": {
        "id": "mynjxXO_E7H7"
      },
      "source": [
        "DO_Nit2.insert(2, \"Lower limit\", 2, False)"
      ],
      "execution_count": 21,
      "outputs": []
    },
    {
      "cell_type": "code",
      "metadata": {
        "id": "tFwSfEioFJU3"
      },
      "source": [
        "plt.plot('date', 'Lower limit', data=DO_Nit2, color='red',linestyle='dashed', linewidth=2, label='Lower limit')\n",
        "plt.scatter('date','Second nitrification tank (On-site measurement) DO', data=DO_Nit2, color='blue', label='DO_Nit2')\n",
        "plt.legend(loc=\"lower right\")"
      ],
      "execution_count": null,
      "outputs": []
    },
    {
      "cell_type": "markdown",
      "metadata": {
        "id": "FvL2SZgP-xn0"
      },
      "source": [
        "pH"
      ]
    },
    {
      "cell_type": "code",
      "metadata": {
        "id": "BO1r7prx_iTk"
      },
      "source": [
        "pH_Nit2 = pH[['date', 'Second nitrification tank (On-site measurement) pH']]\n",
        "pH_Nit2.head()"
      ],
      "execution_count": null,
      "outputs": []
    },
    {
      "cell_type": "code",
      "metadata": {
        "id": "UOJfm1DQALDX"
      },
      "source": [
        "pH_Nit2.insert(2, \"Lower limit\", 6.8, False)\n",
        "pH_Nit2.insert(3, \"Upper limit\", 8, False)"
      ],
      "execution_count": 24,
      "outputs": []
    },
    {
      "cell_type": "code",
      "metadata": {
        "id": "rLQYY6DmAZFm"
      },
      "source": [
        "plt.plot('date','Second nitrification tank (On-site measurement) pH', data=pH_Nit2,color='blue',linewidth=2, label='pH_Nit2')\n",
        "plt.plot('date', 'Upper limit', data=pH_Nit2, color='red',linestyle='dashed', linewidth=2, label='Upper limit')\n",
        "plt.plot('date', 'Lower limit', data=pH_Nit2, color='red',linestyle='dashed', linewidth=2, label='Lower limit')\n",
        "plt.legend(loc=\"lower right\")"
      ],
      "execution_count": null,
      "outputs": []
    },
    {
      "cell_type": "markdown",
      "metadata": {
        "id": "mVO53zFr7kAl"
      },
      "source": [
        "Nitrogen"
      ]
    },
    {
      "cell_type": "code",
      "metadata": {
        "id": "qF50vjhi7m6-"
      },
      "source": [
        "NH4_N_Nit2 = NH4_N[['date','Second nitrification tank (On-site measurement) NH4-N']]\n",
        "NO2_N_Nit2 = NO2_N[['date','Second nitrification tank (On-site measurement) NO2-N']]\n",
        "NO3_N_Nit2 = NO3_N[['date','Second nitrification tank (On-site measurement) NO3-N']]"
      ],
      "execution_count": 26,
      "outputs": []
    },
    {
      "cell_type": "code",
      "metadata": {
        "id": "JX45dtOA8Qoz"
      },
      "source": [
        "N_Nit2 = pd.merge(NH4_N_Nit2, NO2_N_Nit2, on='date')\n",
        "N_Nit2 = pd.merge(N_Nit2, NO3_N_Nit2, on='date')\n",
        "N_Nit2.head()"
      ],
      "execution_count": null,
      "outputs": []
    },
    {
      "cell_type": "code",
      "metadata": {
        "id": "9YPCq7TM8p61"
      },
      "source": [
        "plt.plot('date','Second nitrification tank (On-site measurement) NH4-N', data=N_Nit2, color='blue', linewidth=2, label='NH4-N_Nit2')\n",
        "plt.plot('date','Second nitrification tank (On-site measurement) NO2-N', data=N_Nit2, color='green', linewidth=2, label='NO2-N_Nit2')\n",
        "plt.plot('date','Second nitrification tank (On-site measurement) NO3-N', data=N_Nit2, color='brown', linewidth=2, label='NO3-N_Nit2')\n",
        "plt.legend(loc=\"lower right\")"
      ],
      "execution_count": null,
      "outputs": []
    },
    {
      "cell_type": "markdown",
      "metadata": {
        "id": "hJoMuWXa8CTa"
      },
      "source": [
        ""
      ]
    },
    {
      "cell_type": "markdown",
      "metadata": {
        "id": "KD4f-Rz9y6vm"
      },
      "source": [
        "**Denitrification Tank Analysis**\n"
      ]
    },
    {
      "cell_type": "markdown",
      "metadata": {
        "id": "UCggnLznPBjw"
      },
      "source": [
        "Nitrogen"
      ]
    },
    {
      "cell_type": "code",
      "metadata": {
        "id": "YRFgc-FzPEgR"
      },
      "source": [
        "NH4_N_Den = NH4_N[['date','Denitrification tank (On-site measurement) NH4-N']]\n",
        "NO2_N_Den = NO2_N[['date','Denitrification tank (On-site measurement) NO2-N']]\n",
        "NO3_N_Den = NO3_N[['date','Denitrification tank (On-site measurement) NO3-N']]"
      ],
      "execution_count": 29,
      "outputs": []
    },
    {
      "cell_type": "code",
      "metadata": {
        "id": "LGo-Y8KgPoI0"
      },
      "source": [
        "N_Den = pd.merge(NH4_N_Den, NO2_N_Den, on='date')\n",
        "N_Den = pd.merge(N_Den, NO3_N_Den, on='date')\n",
        "N_Den = pd.merge(N_Den, Re_Slu, on='date')"
      ],
      "execution_count": 30,
      "outputs": []
    },
    {
      "cell_type": "code",
      "metadata": {
        "id": "_tkrO5RMnEUS"
      },
      "source": [
        "plt.plot('date', 'Denitrification tank (On-site measurement) NO2-N', data=N_Den, color='green', linewidth=2, label='NO2-N_Den')\n",
        "plt.plot('date', 'Return sludge flow rate', data=N_Den, color='brown', linewidth=2, label='Return sludge flow rate')\n",
        "plt.legend(loc=\"lower right\")"
      ],
      "execution_count": null,
      "outputs": []
    },
    {
      "cell_type": "code",
      "metadata": {
        "id": "HICwBbZARTBv"
      },
      "source": [
        "plt.plot('date', 'Denitrification tank (On-site measurement) NH4-N', data=N_Den, color='blue', linewidth=2, label='NH4-N_Den')\n",
        "plt.plot('date', 'Denitrification tank (On-site measurement) NO2-N', data=N_Den, color='green', linewidth=2, label='NO2-N_Den')\n",
        "plt.plot('date', 'Denitrification tank (On-site measurement) NO3-N', data=N_Den, color='brown', linewidth=2, label='NO3-N_Den')\n",
        "plt.legend(loc=\"lower right\")"
      ],
      "execution_count": null,
      "outputs": []
    },
    {
      "cell_type": "markdown",
      "metadata": {
        "id": "922ig0a3C1PI"
      },
      "source": [
        "DO"
      ]
    },
    {
      "cell_type": "code",
      "metadata": {
        "id": "pmwohLluEfw8"
      },
      "source": [
        "DO_den = DO[['date', 'Denitrification tank (On-site measurement) DO']]\n",
        "DO_den"
      ],
      "execution_count": null,
      "outputs": []
    },
    {
      "cell_type": "code",
      "metadata": {
        "id": "zJPQ1tNrEx_Q"
      },
      "source": [
        "DO_den.insert(2, \"Upper limit\", 0.1, False)"
      ],
      "execution_count": 34,
      "outputs": []
    },
    {
      "cell_type": "code",
      "metadata": {
        "id": "bcgpaRVfFrEs"
      },
      "source": [
        "plt.plot('date', 'Upper limit', data=DO_den, color='red',linestyle='dashed', linewidth=2, label='Upper limit')\n",
        "plt.scatter('date', 'Denitrification tank (On-site measurement) DO', data=DO_den, color='blue', label='DO_den')\n",
        "plt.legend(loc=\"lower right\")"
      ],
      "execution_count": null,
      "outputs": []
    },
    {
      "cell_type": "markdown",
      "metadata": {
        "id": "kcwY8-Rs7YWB"
      },
      "source": [
        "pH"
      ]
    },
    {
      "cell_type": "code",
      "metadata": {
        "id": "dzzS4NhR7YCC"
      },
      "source": [
        "pH_den = pH[['date', 'Denitrification tank (On-site measurement) pH']]\n",
        "pH_den.head()"
      ],
      "execution_count": null,
      "outputs": []
    },
    {
      "cell_type": "code",
      "metadata": {
        "id": "MKwkI2dq-93E"
      },
      "source": [
        "pH_den.insert(2, \"Lower limit\", 6, False)\n",
        "pH_den.insert(3, \"Upper limit\", 9, False)"
      ],
      "execution_count": 37,
      "outputs": []
    },
    {
      "cell_type": "code",
      "metadata": {
        "id": "BGV-nF8c7ni2"
      },
      "source": [
        "plt.scatter('date', 'Denitrification tank (On-site measurement) pH', data=pH_den,color='blue', label='pH_Den')\n",
        "plt.plot('date', 'Upper limit', data=pH_den, color='red',linestyle='dashed', linewidth=2, label='Upper limit')\n",
        "plt.plot('date', 'Lower limit', data=pH_den, color='red',linestyle='dashed', linewidth=2, label='Lower limit')\n",
        "plt.legend(loc=\"lower right\")"
      ],
      "execution_count": null,
      "outputs": []
    },
    {
      "cell_type": "markdown",
      "metadata": {
        "id": "kbPOStRYzH-M"
      },
      "source": [
        "ORP \n"
      ]
    },
    {
      "cell_type": "code",
      "metadata": {
        "id": "SYwY51QYi3-U"
      },
      "source": [
        "# Insert limits for the graph plotting\n",
        "ORP.insert(2, 'Upper limit', 50, False) \n",
        "ORP.insert(3, 'Lower limit', -200, False)\n",
        "ORP "
      ],
      "execution_count": null,
      "outputs": []
    },
    {
      "cell_type": "code",
      "metadata": {
        "id": "MjXavXF8iBRw"
      },
      "source": [
        "# Plot ORP in the denitrification tank (Anoxic)\n",
        "plt.plot('date', 'Denitrification tank (On-site measurement) ORP.1', data=ORP, color='blue', linewidth=2, label='ORP_Den')\n",
        "plt.plot('date', 'Upper limit', data=ORP, color='red',linestyle='dashed', linewidth=2, label='limit')\n",
        "plt.plot('date', 'Lower limit', data=ORP, color='red',linestyle='dashed', linewidth=2)\n",
        "plt.legend(loc=\"lower right\")"
      ],
      "execution_count": null,
      "outputs": []
    },
    {
      "cell_type": "markdown",
      "metadata": {
        "id": "FxlmBEEl0wDu"
      },
      "source": [
        "**Inffluent Analysis**"
      ]
    },
    {
      "cell_type": "markdown",
      "metadata": {
        "id": "GV-jsC_Y0447"
      },
      "source": [
        "Methanol\n"
      ]
    },
    {
      "cell_type": "code",
      "metadata": {
        "id": "MgiAY54Qsl4u"
      },
      "source": [
        "# Create a new df for BOD and Methanol\n",
        "BOD_Met = pd.merge(BOD, Met, on='date')\n",
        "BOD_Met.head()"
      ],
      "execution_count": null,
      "outputs": []
    },
    {
      "cell_type": "code",
      "metadata": {
        "id": "Gtl2Dqs8tCf8"
      },
      "source": [
        "# Select Influent data\n",
        "BOD_Met = BOD_Met[['date', 'Influent water quality BOD', 'Unnamed: 2_level_0 Methanol' ]]\n",
        "BOD_Met.head()"
      ],
      "execution_count": null,
      "outputs": []
    },
    {
      "cell_type": "code",
      "metadata": {
        "id": "L3N-3d8utaid"
      },
      "source": [
        "# Compare BOD and Methanol at the same timeframe\n",
        "plt.plot('date', 'Influent water quality BOD', data=BOD_Met, color='blue', linewidth=2, label='BOD (Inf)')\n",
        "plt.plot('date', 'Unnamed: 2_level_0 Methanol', data=BOD_Met, color='brown', linewidth=2, label='Methanol')\n",
        "plt.legend(loc=\"upper right\")"
      ],
      "execution_count": null,
      "outputs": []
    },
    {
      "cell_type": "markdown",
      "metadata": {
        "id": "sjHmrI5q1X_X"
      },
      "source": [
        "BOD : N Ratio"
      ]
    },
    {
      "cell_type": "code",
      "metadata": {
        "id": "Ov3Kwwy6esf_"
      },
      "source": [
        "BOD_N = pd.merge(BOD, T_N, on='date')"
      ],
      "execution_count": 44,
      "outputs": []
    },
    {
      "cell_type": "code",
      "metadata": {
        "id": "9Onz27iLfh-G"
      },
      "source": [
        "BOD_N_Inf = BOD_N[['date', 'Influent water quality BOD', 'Influent water quality T-N']]"
      ],
      "execution_count": 45,
      "outputs": []
    },
    {
      "cell_type": "code",
      "metadata": {
        "id": "cpphz9MSfjd2"
      },
      "source": [
        "BOD_To_N = BOD_N_Inf['Influent water quality BOD']/BOD_N_Inf['Influent water quality T-N']"
      ],
      "execution_count": 46,
      "outputs": []
    },
    {
      "cell_type": "code",
      "metadata": {
        "id": "zWXd4K6vgEno"
      },
      "source": [
        "BOD_N_Inf.insert(3, \"BOD/T-N Ratio\", BOD_To_N, False)\n",
        "BOD_N_Inf.insert(4, \"Critical Ratio\", 2.5, False)"
      ],
      "execution_count": 47,
      "outputs": []
    },
    {
      "cell_type": "code",
      "metadata": {
        "id": "oRECQNRlhBrv"
      },
      "source": [
        "BOD_N_Inf.head()"
      ],
      "execution_count": null,
      "outputs": []
    },
    {
      "cell_type": "code",
      "metadata": {
        "id": "RTAB7DUJibRt"
      },
      "source": [
        "plt.plot('date', 'BOD/T-N Ratio', data=BOD_N_Inf, color='blue', linewidth=2, label='BOD/T-N Ratio (Inf)')\n",
        "plt.plot('date', 'Critical Ratio', data=BOD_N_Inf, color='red', linestyle='dashed',linewidth=2, label='BOD/T-N Critical Ratio')\n",
        "plt.legend(loc=\"upper right\")"
      ],
      "execution_count": null,
      "outputs": []
    },
    {
      "cell_type": "markdown",
      "metadata": {
        "id": "Zpmh28DV1maH"
      },
      "source": [
        "COD : BOD ratio"
      ]
    },
    {
      "cell_type": "code",
      "metadata": {
        "id": "651vNqWRkF5F"
      },
      "source": [
        "COD_BOD = pd.merge(COD, BOD, on='date')"
      ],
      "execution_count": 51,
      "outputs": []
    },
    {
      "cell_type": "code",
      "metadata": {
        "id": "MTd7TPLvzg8k"
      },
      "source": [
        "COD_BOD_Inf = COD_BOD[['date', 'Influent water quality CODMn','Effluent water quality CODMn', 'Influent water quality BOD']]"
      ],
      "execution_count": 52,
      "outputs": []
    },
    {
      "cell_type": "code",
      "metadata": {
        "id": "QA0voF2Dz4kL"
      },
      "source": [
        "COD_To_BOD = COD_BOD_Inf['Influent water quality CODMn']/COD_BOD_Inf['Influent water quality BOD']"
      ],
      "execution_count": 53,
      "outputs": []
    },
    {
      "cell_type": "code",
      "metadata": {
        "id": "YW_yxccN07uY"
      },
      "source": [
        "COD_BOD_Inf.insert(4, \"COD/BOD Ratio\", COD_To_BOD, False) \n",
        "COD_BOD_Inf.insert(5, 'Critical Ratio = 2', 2, False) "
      ],
      "execution_count": 54,
      "outputs": []
    },
    {
      "cell_type": "code",
      "metadata": {
        "id": "MWVjkPHF1QYx"
      },
      "source": [
        "COD_BOD_Inf.head()"
      ],
      "execution_count": null,
      "outputs": []
    },
    {
      "cell_type": "code",
      "metadata": {
        "id": "T7Xz5HxI1TNE"
      },
      "source": [
        "plt.plot('date', 'COD/BOD Ratio', data=COD_BOD_Inf, color='blue', linewidth=2, label='COD/BOD Ratio (Inf)')\n",
        "plt.plot('date', 'Critical Ratio = 2', data=COD_BOD_Inf, color='red', linestyle='dashed', linewidth=2, label='COD/BOD Critical Ratio')\n",
        "plt.legend(loc=\"upper right\")"
      ],
      "execution_count": null,
      "outputs": []
    },
    {
      "cell_type": "markdown",
      "metadata": {
        "id": "Stf9gLk11pxo"
      },
      "source": [
        "BOD : T-P Ratio"
      ]
    },
    {
      "cell_type": "code",
      "metadata": {
        "id": "82-9re1m-krj"
      },
      "source": [
        "BOD_TP= pd.merge(BOD, TP_Eff, on='date')\n",
        "BOD_TP.head()"
      ],
      "execution_count": null,
      "outputs": []
    },
    {
      "cell_type": "code",
      "metadata": {
        "id": "uPZaPiwCDLcv"
      },
      "source": [
        "BOD_TP_Inf = BOD_TP[['date', 'Influent water quality BOD', 'Influent water quality T-P']]"
      ],
      "execution_count": 58,
      "outputs": []
    },
    {
      "cell_type": "code",
      "metadata": {
        "id": "s80yqQ_eDeBq"
      },
      "source": [
        "BOD_To_TP = BOD_TP_Inf['Influent water quality BOD']/BOD_TP_Inf['Influent water quality T-P']"
      ],
      "execution_count": 59,
      "outputs": []
    },
    {
      "cell_type": "code",
      "metadata": {
        "id": "y6DTu8lKEEEo"
      },
      "source": [
        "BOD_TP_Inf.insert(3, \"BOD/T-P Ratio\", BOD_To_TP, False) \n",
        "BOD_TP_Inf.insert(4, 'Critical Ratio = 20', 20, False) "
      ],
      "execution_count": 60,
      "outputs": []
    },
    {
      "cell_type": "code",
      "metadata": {
        "id": "6M6OJp2TE1NP"
      },
      "source": [
        "BOD_TP_Inf.head()"
      ],
      "execution_count": null,
      "outputs": []
    },
    {
      "cell_type": "code",
      "metadata": {
        "id": "HG-kKJ17Egu7"
      },
      "source": [
        "plt.plot('date', 'BOD/T-P Ratio', data=BOD_TP_Inf, color='blue', linewidth=2, label='BOD/T-P Ratio (Inf)')\n",
        "plt.plot('date', 'Critical Ratio = 20', data=BOD_TP_Inf, color='red', linestyle='dashed',linewidth=2, label='BOD/T-P Critical Ratio')\n",
        "plt.legend(loc=\"upper right\")"
      ],
      "execution_count": null,
      "outputs": []
    }
  ]
}